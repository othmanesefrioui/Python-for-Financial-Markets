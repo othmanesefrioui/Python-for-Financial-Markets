{
 "cells": [
  {
   "cell_type": "code",
   "execution_count": null,
   "id": "d41d07bf-4f28-4f5e-80fe-8decadbb3530",
   "metadata": {},
   "outputs": [
    {
     "name": "stderr",
     "output_type": "stream",
     "text": [
      "Exception in Tkinter callback\n",
      "Traceback (most recent call last):\n",
      "  File \"/Users/macbookpro/opt/anaconda3/lib/python3.9/tkinter/__init__.py\", line 1892, in __call__\n",
      "    return self.func(*args)\n",
      "  File \"/var/folders/n8/7b6_35td6c945bwkqt6fm4b00000gn/T/ipykernel_6287/222630966.py\", line 17, in calculate_price\n",
      "    r = float(entry_r.get())\n",
      "ValueError: could not convert string to float: '3/100'\n",
      "Exception in Tkinter callback\n",
      "Traceback (most recent call last):\n",
      "  File \"/Users/macbookpro/opt/anaconda3/lib/python3.9/tkinter/__init__.py\", line 1892, in __call__\n",
      "    return self.func(*args)\n",
      "  File \"/var/folders/n8/7b6_35td6c945bwkqt6fm4b00000gn/T/ipykernel_6287/222630966.py\", line 17, in calculate_price\n",
      "    r = float(entry_r.get())\n",
      "ValueError: could not convert string to float: '0,03'\n"
     ]
    }
   ],
   "source": [
    "import tkinter as tk\n",
    "from tkinter import ttk\n",
    "import math\n",
    "from scipy.stats import norm\n",
    "\n",
    "def black_scholes_price(S, K, T, r, sigma):\n",
    "    d1 = (math.log(S / K) + (r + 0.5 * sigma ** 2) * T) / (sigma * math.sqrt(T))\n",
    "    d2 = d1 - sigma * math.sqrt(T)\n",
    "    call_price = S * norm.cdf(d1) - K * math.exp(-r * T) * norm.cdf(d2)\n",
    "    put_price = K * math.exp(-r * T) * norm.cdf(-d2) - S * norm.cdf(-d1)\n",
    "    return call_price, put_price\n",
    "\n",
    "def calculate_price():\n",
    "    S = float(entry_S.get())\n",
    "    K = float(entry_K.get())\n",
    "    T = float(entry_T.get())\n",
    "    r = float(entry_r.get())\n",
    "    sigma = float(entry_sigma.get())\n",
    "    \n",
    "    call_price, put_price = black_scholes_price(S, K, T, r, sigma)\n",
    "    \n",
    "    label_result.config(text=f\"Call Option Price: {call_price:.2f}\\nPut Option Price: {put_price:.2f}\")\n",
    "\n",
    "# Initialisation de la fenêtre principale\n",
    "root = tk.Tk()\n",
    "root.title(\"Black-Scholes Option Pricer\")\n",
    "\n",
    "# Création des widgets\n",
    "label_S = ttk.Label(root, text=\"Stock Price (S):\")\n",
    "label_S.grid(column=0, row=0, padx=10, pady=10)\n",
    "\n",
    "entry_S = ttk.Entry(root)\n",
    "entry_S.grid(column=1, row=0, padx=10, pady=10)\n",
    "\n",
    "label_K = ttk.Label(root, text=\"Strike Price (K):\")\n",
    "label_K.grid(column=0, row=1, padx=10, pady=10)\n",
    "\n",
    "entry_K = ttk.Entry(root)\n",
    "entry_K.grid(column=1, row=1, padx=10, pady=10)\n",
    "\n",
    "label_T = ttk.Label(root, text=\"Time to Maturity (T):\")\n",
    "label_T.grid(column=0, row=2, padx=10, pady=10)\n",
    "\n",
    "entry_T = ttk.Entry(root)\n",
    "entry_T.grid(column=1, row=2, padx=10, pady=10)\n",
    "\n",
    "label_r = ttk.Label(root, text=\"Risk-Free Rate (r):\")\n",
    "label_r.grid(column=0, row=3, padx=10, pady=10)\n",
    "\n",
    "entry_r = ttk.Entry(root)\n",
    "entry_r.grid(column=1, row=3, padx=10, pady=10)\n",
    "\n",
    "label_sigma = ttk.Label(root, text=\"Volatility (sigma):\")\n",
    "label_sigma.grid(column=0, row=4, padx=10, pady=10)\n",
    "\n",
    "entry_sigma = ttk.Entry(root)\n",
    "entry_sigma.grid(column=1, row=4, padx=10, pady=10)\n",
    "\n",
    "button_calculate = ttk.Button(root, text=\"Calculate Price\", command=calculate_price)\n",
    "button_calculate.grid(column=0, row=5, columnspan=2, pady=20)\n",
    "\n",
    "label_result = ttk.Label(root, text=\"Call Option Price: \\nPut Option Price: \")\n",
    "label_result.grid(column=0, row=6, columnspan=2, pady=10)\n",
    "\n",
    "# Boucle principale\n",
    "root.mainloop()\n"
   ]
  },
  {
   "cell_type": "code",
   "execution_count": null,
   "id": "abfbf437-d524-4808-aa42-89dee4e04711",
   "metadata": {},
   "outputs": [],
   "source": []
  }
 ],
 "metadata": {
  "kernelspec": {
   "display_name": "Python 3 (ipykernel)",
   "language": "python",
   "name": "python3"
  },
  "language_info": {
   "codemirror_mode": {
    "name": "ipython",
    "version": 3
   },
   "file_extension": ".py",
   "mimetype": "text/x-python",
   "name": "python",
   "nbconvert_exporter": "python",
   "pygments_lexer": "ipython3",
   "version": "3.9.12"
  }
 },
 "nbformat": 4,
 "nbformat_minor": 5
}
