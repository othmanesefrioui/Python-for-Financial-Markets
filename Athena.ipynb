{
 "cells": [
  {
   "cell_type": "code",
   "execution_count": 1,
   "id": "2fdc1850-40e9-473f-8507-a71d80339434",
   "metadata": {},
   "outputs": [],
   "source": [
    "# Importations\n",
    "import numpy as np\n",
    "import pandas as pd\n",
    "from scipy.stats import norm\n",
    "import scipy.stats as stats\n",
    "import yfinance as yf"
   ]
  },
  {
   "cell_type": "code",
   "execution_count": 2,
   "id": "82f6ca7f-a337-40ce-8a4c-484dabee7834",
   "metadata": {},
   "outputs": [],
   "source": [
    "# Constants and parameters from the term sheet\n",
    "duration_years = 3\n",
    "nominal_value = 1000\n",
    "coupon_rate = 2.55 / 100  # Annual coupon rate\n",
    "initial_strike = 2758.67\n",
    "activation_barrier_threshold = 1655.202"
   ]
  },
  {
   "cell_type": "code",
   "execution_count": 4,
   "id": "9e03000c-716b-4afa-ba9e-528ca9927873",
   "metadata": {},
   "outputs": [
    {
     "name": "stderr",
     "output_type": "stream",
     "text": [
      "[*********************100%%**********************]  1 of 1 completed\n"
     ]
    }
   ],
   "source": [
    "# Définition des tickers des entreprises\n",
    "tickers = [\"^FCHI\"]\n",
    "\n",
    "# Téléchargement des données historiques des prix de clôture\n",
    "prices = yf.download(tickers, start=\"2021-01-01\", end=\"2024-01-01\")['Close']"
   ]
  },
  {
   "cell_type": "code",
   "execution_count": null,
   "id": "b5a64648-d8a6-4fff-a05f-0b2cbcff955c",
   "metadata": {},
   "outputs": [],
   "source": [
    "## Calculs des mesures utiles\n",
    "# Calcul des rendements logarithmiques quotidiens\n",
    "log_returns = np.log(prices / prices.shift(1))"
   ]
  }
 ],
 "metadata": {
  "kernelspec": {
   "display_name": "Python 3 (ipykernel)",
   "language": "python",
   "name": "python3"
  },
  "language_info": {
   "codemirror_mode": {
    "name": "ipython",
    "version": 3
   },
   "file_extension": ".py",
   "mimetype": "text/x-python",
   "name": "python",
   "nbconvert_exporter": "python",
   "pygments_lexer": "ipython3",
   "version": "3.9.12"
  }
 },
 "nbformat": 4,
 "nbformat_minor": 5
}
