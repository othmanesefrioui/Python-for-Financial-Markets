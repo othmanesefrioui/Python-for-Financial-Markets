{
 "cells": [
  {
   "cell_type": "code",
   "execution_count": 38,
   "id": "e15a002f-3fec-4043-93db-20d71a90e14d",
   "metadata": {},
   "outputs": [],
   "source": [
    "# Importations\n",
    "import numpy as np\n",
    "import pandas as pd\n",
    "from scipy.stats import norm\n",
    "import scipy.stats as stats\n",
    "import yfinance as yf"
   ]
  },
  {
   "cell_type": "code",
   "execution_count": 39,
   "id": "56c536e8-b5b3-49d4-8c86-e2b06d895ba0",
   "metadata": {},
   "outputs": [
    {
     "name": "stderr",
     "output_type": "stream",
     "text": [
      "[*********************100%%**********************]  6 of 6 completed\n"
     ]
    },
    {
     "name": "stdout",
     "output_type": "stream",
     "text": [
      "Ticker            AAPL       AMZN      GOOGL        META        MSFT  \\\n",
      "Date                                                                   \n",
      "2002-01-02    0.416071   0.548000        NaN         NaN   33.520000   \n",
      "2002-01-03    0.421071   0.595000        NaN         NaN   34.615002   \n",
      "2002-01-04    0.423036   0.612500        NaN         NaN   34.450001   \n",
      "2002-01-07    0.408929   0.617000        NaN         NaN   34.279999   \n",
      "2002-01-08    0.403750   0.592500        NaN         NaN   34.689999   \n",
      "...                ...        ...        ...         ...         ...   \n",
      "2022-12-23  131.860001  85.250000  89.230003  118.040001  238.729996   \n",
      "2022-12-27  130.029999  83.040001  87.389999  116.879997  236.960007   \n",
      "2022-12-28  126.040001  81.820000  86.019997  115.620003  234.529999   \n",
      "2022-12-29  129.610001  84.180000  88.449997  120.260002  241.009995   \n",
      "2022-12-30  129.929993  84.000000  88.230003  120.339996  239.820007   \n",
      "\n",
      "Ticker            ^FCHI  \n",
      "Date                     \n",
      "2002-01-02  4580.439941  \n",
      "2002-01-03  4681.200195  \n",
      "2002-01-04  4682.790039  \n",
      "2002-01-07  4615.540039  \n",
      "2002-01-08  4568.089844  \n",
      "...                 ...  \n",
      "2022-12-23  6504.899902  \n",
      "2022-12-27  6550.660156  \n",
      "2022-12-28  6510.490234  \n",
      "2022-12-29  6573.470215  \n",
      "2022-12-30  6473.759766  \n",
      "\n",
      "[5423 rows x 6 columns]\n"
     ]
    }
   ],
   "source": [
    "# Définition des tickers des entreprises\n",
    "tickers = [\"^FCHI\",\"AAPL\", \"GOOGL\", \"MSFT\", \"AMZN\", \"META\"]\n",
    "\n",
    "# Téléchargement des données historiques des prix de clôture\n",
    "prices = yf.download(tickers, start=\"2002-01-01\", end=\"2023-01-01\")['Close']\n",
    "\n",
    "print(prices)"
   ]
  },
  {
   "cell_type": "code",
   "execution_count": 40,
   "id": "1c4ede02-68ce-4c31-9eb2-d8f5c656684d",
   "metadata": {},
   "outputs": [],
   "source": [
    "## Calculs des mesures utiles\n",
    "# Calcul des rendements logarithmiques quotidiens\n",
    "log_returns = np.log(prices / prices.shift(1))\n",
    "\n",
    "# Taux sans risque (ex: taux de bons du Trésor Francais à 10 ans)\n",
    "annual_risk_free_rate = 0.03  # 3%\n",
    "daily_risk_free_rate = (1 + annual_risk_free_rate)**(1/250) - 1"
   ]
  },
  {
   "cell_type": "code",
   "execution_count": 41,
   "id": "32cd0529-f6d6-46a0-a1f8-7ebbe693601a",
   "metadata": {},
   "outputs": [
    {
     "name": "stdout",
     "output_type": "stream",
     "text": [
      "Mean (mu) for each ticker: {'AAPL': 0.0010510622930868473, 'AMZN': 0.0008381259831725872, 'GOOGL': 0.0007054871929786635, 'META': 0.0004411635870160352, 'MSFT': 0.0004001939708091178, '^FCHI': 4.478205119878155e-05}\n",
      "Standard Deviation (sigma) for each ticker: {'AAPL': 0.021740089979063036, 'AMZN': 0.02573728569980593, 'GOOGL': 0.019290499179270806, 'META': 0.02549032334888288, 'MSFT': 0.01779175025317905, '^FCHI': 0.014103939515742465}\n"
     ]
    }
   ],
   "source": [
    "# Simulation parameters\n",
    "num_simulations = 100000\n",
    "num_days = 250  # Days in a year for daily simulations\n",
    "initial_stock_prices = prices.iloc[-1]  # We take the last available price as the initial price\n",
    "volatility = log_returns.std() * np.sqrt(num_days)  # Annualized volatility from the log returns\n",
    "risk_free_rate = 0.03\n",
    "mus = {}\n",
    "sigmas = {}\n",
    "# Suppression des NaN\n",
    "clean_log_returns = log_returns.dropna()\n",
    "\n",
    "# Calculate mu and sigma for each ticker\n",
    "for ticker in log_returns.columns:\n",
    "    mu, sigma = norm.fit(log_returns[ticker].dropna())  # Drop NaN values for accurate fitting\n",
    "    mus[ticker] = mu\n",
    "    sigmas[ticker] = sigma\n",
    "\n",
    "# Display the calculated mu and sigma for each ticker\n",
    "print(\"Mean (mu) for each ticker:\", mus)\n",
    "print(\"Standard Deviation (sigma) for each ticker:\", sigmas)\n",
    "\n",
    "# Calculate the daily risk-free rate\n",
    "daily_risk_free_rate = np.exp(risk_free_rate / num_days) - 1\n",
    "\n",
    "# Generate the equity basket simulations\n",
    "basket_simulations = np.zeros((num_simulations, num_days + 1))\n",
    "basket_simulations[:, 0] = np.sum(initial_stock_prices)\n",
    "\n",
    "# Initialize a numpy array to hold the stock price simulations\n",
    "stock_price_simulations = np.zeros((len(tickers), num_simulations, num_days + 1))\n",
    "for i, ticker in enumerate(tickers):\n",
    "    # Set the initial stock prices\n",
    "    stock_price_simulations[i, :, 0] = initial_stock_prices[ticker]\n",
    "    # Simulate the stock price for each day\n",
    "    for day in range(1, num_days + 1):\n",
    "        daily_stock_returns = np.random.normal(mus[ticker], sigmas[ticker], num_simulations)\n",
    "        stock_price_simulations[i, :, day] = stock_price_simulations[i, :, day - 1] * (1 + daily_stock_returns)\n",
    "\n"
   ]
  },
  {
   "cell_type": "code",
   "execution_count": 42,
   "id": "ce9beab0-bdfc-42bc-a83d-61143dad52b7",
   "metadata": {},
   "outputs": [
    {
     "name": "stdout",
     "output_type": "stream",
     "text": [
      "Final stock prices:\n",
      "             ^FCHI        AAPL       GOOGL        MSFT        AMZN        META\n",
      "0      5820.069456  134.966230   86.341310  148.131962  146.158370  216.990579\n",
      "1      8606.873461  200.610687  155.001177  341.006357   84.257479  278.180921\n",
      "2      8891.862916  142.294563  167.591790  307.429313   67.845821  186.370289\n",
      "3      6107.530852  161.964029  126.407649  388.748994   59.859177  153.716210\n",
      "4      8870.857394  142.268996   76.497886  164.858200   92.078549  105.559058\n",
      "...            ...         ...         ...         ...         ...         ...\n",
      "99995  6152.915768  189.098334   50.316018  257.342149  103.092243  121.840998\n",
      "99996  6374.026336  144.532349  144.675084  289.091756  151.406966  115.207515\n",
      "99997  7758.319795  152.555686  166.563373  190.952010   75.303505  163.273682\n",
      "99998  5944.996555  179.076562  137.418680  172.854642   61.993273  121.992786\n",
      "99999  8210.809027  201.498890   91.589122  228.395537  113.004357  133.660919\n",
      "\n",
      "[100000 rows x 6 columns]\n"
     ]
    }
   ],
   "source": [
    "# Initialize a numpy array to hold the final stock prices\n",
    "final_stock_prices = np.zeros((len(tickers), num_simulations))\n",
    "\n",
    "# Populate the final stock prices array\n",
    "for i, ticker in enumerate(tickers):\n",
    "    final_stock_prices[i] = stock_price_simulations[i, :, -1]\n",
    "\n",
    "# Convert the final stock prices array to a DataFrame for easy visualization\n",
    "final_prices_df = pd.DataFrame(final_stock_prices.T, columns=tickers)\n",
    "\n",
    "# Display the DataFrame\n",
    "print(\"Final stock prices:\")\n",
    "print(final_prices_df)"
   ]
  },
  {
   "cell_type": "code",
   "execution_count": 43,
   "id": "e4ca5b8b-4545-4480-bbca-61e12d4e9955",
   "metadata": {},
   "outputs": [
    {
     "data": {
      "image/png": "[encoded data removed]",
      "text/plain": [
       "<Figure size 720x432 with 1 Axes>"
      ]
     },
     "metadata": {
      "needs_background": "light"
     },
     "output_type": "display_data"
    },
    {
     "data": {
      "image/png": "[encoded data removed]",
      "text/plain": [
       "<Figure size 720x432 with 1 Axes>"
      ]
     },
     "metadata": {
      "needs_background": "light"
     },
     "output_type": "display_data"
    }
   ],
   "source": [
    "import matplotlib.pyplot as plt\n",
    "\n",
    "# Plot boxplots for final stock prices\n",
    "plt.figure(figsize=(10, 6))\n",
    "plt.boxplot(final_stock_prices.T, labels=tickers)\n",
    "plt.title('Final Stock Prices Distribution')\n",
    "plt.xlabel('Ticker')\n",
    "plt.ylabel('Price')\n",
    "plt.grid(True)\n",
    "plt.show()\n",
    "\n",
    "# Plot histograms for final stock prices\n",
    "plt.figure(figsize=(10, 6))\n",
    "for i, ticker in enumerate(tickers):\n",
    "    plt.hist(final_stock_prices[i], bins=30, alpha=0.5, label=ticker)\n",
    "plt.title('Histogram of Final Stock Prices')\n",
    "plt.xlabel('Price')\n",
    "plt.ylabel('Frequency')\n",
    "plt.legend()\n",
    "plt.grid(True)\n",
    "plt.show()"
   ]
  },
  {
   "cell_type": "code",
   "execution_count": 45,
   "id": "99c9a4d5-0f9f-45a1-be98-b995bfab3545",
   "metadata": {},
   "outputs": [
    {
     "name": "stdout",
     "output_type": "stream",
     "text": [
      "Summary of Initial and Mean Final Stock Prices:\n",
      "       Initial Price  Mean Final Price\n",
      "AAPL      129.929993        169.283566\n",
      "AMZN       84.000000        103.502702\n",
      "GOOGL      88.230003        105.111905\n",
      "META      120.339996        134.148968\n",
      "MSFT      239.820007        264.884121\n",
      "^FCHI    6473.759766       6541.632432\n"
     ]
    }
   ],
   "source": [
    "# Calculate the mean final stock price for each ticker\n",
    "mean_final_prices = final_prices_df.mean()\n",
    "\n",
    "# Create a DataFrame to hold the initial and mean final stock prices\n",
    "summary_df = pd.DataFrame({\n",
    "    'Initial Price': initial_stock_prices,\n",
    "    'Mean Final Price': mean_final_prices\n",
    "})\n",
    "\n",
    "# Display the summary DataFrame\n",
    "print(\"Summary of Initial and Mean Final Stock Prices:\")\n",
    "print(summary_df)"
   ]
  },
  {
   "cell_type": "code",
   "execution_count": null,
   "id": "a906ed6b-c62e-4b9a-9ec2-912b4c4b2943",
   "metadata": {},
   "outputs": [],
   "source": []
  },
  {
   "cell_type": "code",
   "execution_count": null,
   "id": "f24e9c15-4d58-4a4d-a175-0c5648154dbd",
   "metadata": {},
   "outputs": [],
   "source": []
  },
  {
   "cell_type": "code",
   "execution_count": null,
   "id": "06c25d72-4038-4983-bb9c-bbd4c9f0a3ad",
   "metadata": {},
   "outputs": [],
   "source": []
  }
 ],
 "metadata": {
  "kernelspec": {
   "display_name": "Python 3 (ipykernel)",
   "language": "python",
   "name": "python3"
  },
  "language_info": {
   "codemirror_mode": {
    "name": "ipython",
    "version": 3
   },
   "file_extension": ".py",
   "mimetype": "text/x-python",
   "name": "python",
   "nbconvert_exporter": "python",
   "pygments_lexer": "ipython3",
   "version": "3.9.12"
  }
 },
 "nbformat": 4,
 "nbformat_minor": 5
}
